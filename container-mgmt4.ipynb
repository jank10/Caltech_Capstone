{
 "cells": [
  {
   "cell_type": "markdown",
   "metadata": {},
   "source": [
    "# Import things"
   ]
  },
  {
   "cell_type": "code",
   "execution_count": 1,
   "metadata": {},
   "outputs": [],
   "source": [
    "import os\n",
    "import difflib\n",
    "import openai   \n",
    "from dotenv import load_dotenv  \n",
    "\n",
    "from langchain_openai import ChatOpenAI\n",
    "from langgraph.prebuilt import create_react_agent\n",
    "from langchain_core.tools import tool"
   ]
  },
  {
   "cell_type": "code",
   "execution_count": 2,
   "metadata": {},
   "outputs": [],
   "source": [
    "load_dotenv()\n",
    "openai.api_key = os.getenv(\"OPENAI_API_KEY\")"
   ]
  },
  {
   "cell_type": "code",
   "execution_count": 3,
   "metadata": {},
   "outputs": [],
   "source": [
    "# 1. Mock Supply Chain Data\n",
    "transport_data = {\n",
    "    \"Transport1\": {\"Paletten\": 1000, \"Rahmen\": 100},\n",
    "    \"Transport2\": {\"Paletten\": 850,  \"Rahmen\": 2},\n",
    "    \"Transport3\": {\"Paletten\": 920,  \"Rahmen\": 20},\n",
    "    \"Transport4\": {\"Paletten\": 1100, \"Rahmen\": 1},\n",
    "    \"Transport5\": {\"Paletten\": 980,  \"Rahmen\": 4}\n",
    "}"
   ]
  },
  {
   "cell_type": "markdown",
   "metadata": {},
   "source": [
    "# Define Tools"
   ]
  },
  {
   "cell_type": "code",
   "execution_count": 4,
   "metadata": {},
   "outputs": [],
   "source": [
    "@tool\n",
    "def suggest_company_name(input_company: str) -> str:\n",
    "    \"\"\"\n",
    "    Suggests the closest matching company name from the available companies.\n",
    "\n",
    "    Uses fuzzy matching (via difflib.get_close_matches) to determine if the input_company\n",
    "    is similar to any of the companies in transport_data.\n",
    "\n",
    "    :param input_company: The company name provided by the user, potentially with a typo.\n",
    "    :return: A suggestion message such as \"Did you mean 'Transport2'?\" or an indication\n",
    "             that no similar company was found.\n",
    "    \"\"\"\n",
    "    valid_companies = list(transport_data.keys())\n",
    "    matches = difflib.get_close_matches(input_company, valid_companies, n=1, cutoff=0.6)\n",
    "    if matches:\n",
    "        # If the best match is identical (ignoring case), no suggestion is needed.\n",
    "        if matches[0].lower() == input_company.lower():\n",
    "            return f\"'{input_company}' is recognized.\"\n",
    "        else:\n",
    "            return f\"Did you mean '{matches[0]}'?\"\n",
    "    else:\n",
    "        return f\"No similar company name found for '{input_company}'. Please verify the company name.\"\n"
   ]
  },
  {
   "cell_type": "code",
   "execution_count": 5,
   "metadata": {},
   "outputs": [],
   "source": [
    "@tool\n",
    "def call_suggestion_agent(query: str) -> str:\n",
    "    \"\"\"\n",
    "    The coordinator calls suggestionAgent in single-step usage for inventory queries.\n",
    "    \"\"\"\n",
    "    return \"[Coordinator] (No real implementation yet)\""
   ]
  },
  {
   "cell_type": "code",
   "execution_count": 6,
   "metadata": {},
   "outputs": [],
   "source": [
    "def create_company_suggestion_agent():\n",
    "    llm_suggester = ChatOpenAI(model=\"gpt-4o\", temperature=0)\n",
    "    company_suggestion_agent = create_react_agent(\n",
    "        model=llm_suggester,\n",
    "        tools=[suggest_company_name]\n",
    "    )\n",
    "    return company_suggestion_agent"
   ]
  },
  {
   "cell_type": "code",
   "execution_count": 7,
   "metadata": {},
   "outputs": [],
   "source": [
    "company_suggestion_agent = create_company_suggestion_agent()\n"
   ]
  },
  {
   "cell_type": "code",
   "execution_count": 8,
   "metadata": {},
   "outputs": [],
   "source": [
    "def call_suggestion_agent_impl(query: str) -> str:\n",
    "    \"\"\"\n",
    "    Actually calls Suggestion Agent in single-step usage.\n",
    "        \"\"\"\n",
    "    SYSTEM_MSG_DELIVERY = \"\"\"\n",
    "    You are the CompanySuggestionAgent. Help suggest the closest matching company name based on user input.\n",
    "\n",
    "    \"\"\"\n",
    "    result = company_suggestion_agent.invoke(\n",
    "        {\n",
    "            \"messages\": [\n",
    "                {\"role\": \"system\", \"content\": SYSTEM_MSG_DELIVERY},\n",
    "                {\"role\": \"user\", \"content\": query}\n",
    "            ]\n",
    "        },\n",
    "        config={\"configurable\": {\"recursion_limit\": 50}}\n",
    "    )\n",
    "    return result[\"messages\"][-1].content"
   ]
  },
  {
   "cell_type": "code",
   "execution_count": 9,
   "metadata": {},
   "outputs": [],
   "source": [
    "call_suggestion_agent.__doc__ = call_suggestion_agent_impl.__doc__\n",
    "call_suggestion_agent.func = call_suggestion_agent_impl"
   ]
  },
  {
   "cell_type": "markdown",
   "metadata": {},
   "source": [
    "## Stock tools"
   ]
  },
  {
   "cell_type": "code",
   "execution_count": 10,
   "metadata": {},
   "outputs": [],
   "source": [
    "@tool\n",
    "def check_container(item: str, company: str = None) -> str:\n",
    "    \"\"\"\n",
    "    Checks the container stock for the specified item.\n",
    "\n",
    "    If a company is provided, the tool returns the container stock for that company.\n",
    "    If the provided company name does not exactly match a known company (even in a case-insensitive check),\n",
    "    the tool delegates to the CompanySuggestionAgent to see if a close match can be found.\n",
    "    If no company is provided, the tool aggregates the container stock across all companies.\n",
    "\n",
    "    :param item: e.g. \"Paletten\" or \"Rahmen\"\n",
    "    :param company: Optional. The specific company to check.\n",
    "    :return: A message indicating the container stock or a suggestion if the company name is not recognized.\n",
    "    \"\"\"\n",
    "    if company:\n",
    "        # Build a mapping of lowercase company names to the actual keys in transport_data.\n",
    "        company_mapping = {key.lower(): key for key in transport_data.keys()}\n",
    "        company_lower = company.lower()\n",
    "        if company_lower in company_mapping:\n",
    "            actual_company = company_mapping[company_lower]\n",
    "            qty = transport_data[actual_company].get(item, 0)\n",
    "            return f\"[balance] '{item}' at {actual_company}: {qty} units.\"\n",
    "        else:\n",
    "            # Delegate to the CompanySuggestionAgent if the company isn't found.\n",
    "            response = company_suggestion_agent.invoke(\n",
    "                {\n",
    "                    \"messages\": [\n",
    "                        {\"role\": \"system\", \"content\": \"You are the CompanySuggestionAgent. Help suggest the closest matching company name based on user input.\"},\n",
    "                        {\"role\": \"user\", \"content\": company}\n",
    "                    ]\n",
    "                },\n",
    "                config={\"configurable\": {\"recursion_limit\": 10}}\n",
    "            )\n",
    "            return response[\"messages\"][-1].content\n",
    "    else:\n",
    "        total_qty = sum(comp.get(item, 0) for comp in transport_data.values())\n",
    "        return f\"[balance] '{item}' (all companies): {total_qty} units.\"\n"
   ]
  },
  {
   "cell_type": "code",
   "execution_count": 11,
   "metadata": {},
   "outputs": [],
   "source": [
    "@tool\n",
    "def update_container(item_qty: str, company: str = \"Transport1\") -> str:\n",
    "    \"\"\"\n",
    "    Updates container stock for a specified transport company by adding or subtracting a given quantity.\n",
    "\n",
    "    :param item_qty: e.g. \"add 100, Paletten\" or \"subtract 5, Rahmen\"\n",
    "    :param company: The transport company to update (default is \"Transport1\")\n",
    "    :return: Confirmation or error message.\n",
    "    \"\"\"\n",
    "    try:\n",
    "        parts = item_qty.split(\",\")  # Ensure correct parsing\n",
    "        if len(parts) != 2:\n",
    "            return \"[balance] Update error: Invalid format. Use 'add X, item' or 'subtract X, item'.\"\n",
    "\n",
    "        operation_with_qty, item = parts\n",
    "        operation_parts = operation_with_qty.strip().split()\n",
    "\n",
    "        if len(operation_parts) != 2:\n",
    "            return \"[balance] Update error: Invalid format. Expected 'add X' or 'subtract X'.\"\n",
    "\n",
    "        operation, qty_str = operation_parts\n",
    "        qty = int(qty_str.strip())  # Convert quantity to an integer\n",
    "        item = item.strip()  # Remove leading/trailing spaces\n",
    "\n",
    "        if company not in transport_data:\n",
    "            return f\"[balance] Update error: Company '{company}' not found.\"\n",
    "\n",
    "        if operation.lower() == \"add\":\n",
    "            transport_data[company][item] = transport_data[company].get(item, 0) + qty\n",
    "        elif operation.lower() == \"subtract\":\n",
    "            transport_data[company][item] = max(0, transport_data[company].get(item, 0) - qty)\n",
    "        else:\n",
    "            return f\"[balance] Update error: Unknown operation '{operation}'. Use 'add' or 'subtract'.\"\n",
    "\n",
    "        return f\"[balance] Successfully {operation}ed {qty} units of '{item}' to {company}.\"\n",
    "\n",
    "    except Exception as e:\n",
    "        return f\"[balance] Update error: {e}\"\n"
   ]
  },
  {
   "cell_type": "markdown",
   "metadata": {},
   "source": [
    "## Tool to agents to cooperate"
   ]
  },
  {
   "cell_type": "code",
   "execution_count": 12,
   "metadata": {},
   "outputs": [],
   "source": [
    "@tool\n",
    "def call_suggestion_agent(query: str) -> str:\n",
    "    \"\"\"\n",
    "    The coordinator calls suggestionAgent in single-step usage for inventory queries.\n",
    "    \"\"\"\n",
    "    return \"[Coordinator] (No real implementation yet)\""
   ]
  },
  {
   "cell_type": "code",
   "execution_count": 13,
   "metadata": {},
   "outputs": [],
   "source": [
    "@tool\n",
    "def call_container_agent(query: str) -> str:\n",
    "    \"\"\"\n",
    "    The coordinator calls ContainerAgent in single-step usage for inventory queries.\n",
    "    \"\"\"\n",
    "    return \"[Coordinator] (No real implementation yet)\""
   ]
  },
  {
   "cell_type": "markdown",
   "metadata": {},
   "source": [
    "# Create agents"
   ]
  },
  {
   "cell_type": "code",
   "execution_count": 14,
   "metadata": {},
   "outputs": [],
   "source": [
    "def create_specialized_agents():\n",
    "    llm_stock = ChatOpenAI(model=\"gpt-4o\", temperature=0)\n",
    "\n",
    "    # StockAgent\n",
    "    container_agent = create_react_agent(\n",
    "        model=llm_stock,\n",
    "        tools=[update_container, check_container]\n",
    "    )\n",
    "\n",
    "    return container_agent"
   ]
  },
  {
   "cell_type": "code",
   "execution_count": 15,
   "metadata": {},
   "outputs": [],
   "source": [
    "def create_company_suggestion_agent():\n",
    "    llm_suggester = ChatOpenAI(model=\"gpt-4o\", temperature=0)\n",
    "    company_suggestion_agent = create_react_agent(\n",
    "        model=llm_suggester,\n",
    "        tools=[suggest_company_name]\n",
    "    )\n",
    "    return company_suggestion_agent"
   ]
  },
  {
   "cell_type": "code",
   "execution_count": 16,
   "metadata": {},
   "outputs": [],
   "source": [
    "def create_coordinating_agent():\n",
    "    # We'll do a ReAct agent that can call call container agent, etc.\n",
    "    llm_coord = ChatOpenAI(model=\"gpt-4o\", temperature=0)\n",
    "    coordinating_agent = create_react_agent(\n",
    "        model=llm_coord,\n",
    "        tools=[call_container_agent]\n",
    "    )\n",
    "    return coordinating_agent"
   ]
  },
  {
   "cell_type": "markdown",
   "metadata": {},
   "source": [
    "# Use our agents"
   ]
  },
  {
   "cell_type": "code",
   "execution_count": 17,
   "metadata": {},
   "outputs": [],
   "source": [
    "# Create specialized agents (Stock, Delivery, Priority)\n",
    "container_agent = create_specialized_agents()\n",
    "\n",
    "\n",
    "# Create the coordinating agent\n",
    "coordinating_agent = create_coordinating_agent()"
   ]
  },
  {
   "cell_type": "code",
   "execution_count": 18,
   "metadata": {},
   "outputs": [],
   "source": [
    "def call_container_agent_impl(query: str) -> str:\n",
    "    \"\"\"\n",
    "    Actually calls StockAgent in single-step usage.\n",
    "    \"\"\"\n",
    "    SYSTEM_MSG_STOCK = \"\"\"\n",
    "    You are the StockAgent. \n",
    "    You have 'check_stock(item)' and 'update_stock(item_qty)'.\n",
    "    Call exactly one of them based on the user's query. Return the tool's output.\n",
    "    \"\"\"\n",
    "    result = container_agent.invoke(\n",
    "        {\n",
    "            \"messages\": [\n",
    "                {\"role\": \"system\", \"content\": SYSTEM_MSG_STOCK},\n",
    "                {\"role\": \"user\",   \"content\": query}\n",
    "            ]\n",
    "        },\n",
    "        config={\"configurable\": {\"recursion_limit\": 50}}\n",
    "    )\n",
    "    return result[\"messages\"][-1].content"
   ]
  },
  {
   "cell_type": "code",
   "execution_count": 19,
   "metadata": {},
   "outputs": [],
   "source": [
    "def call_suggestion_agent_impl(query: str) -> str:\n",
    "    \"\"\"\n",
    "    Actually calls Suggestion Agent in single-step usage.\n",
    "        \"\"\"\n",
    "    SYSTEM_MSG_DELIVERY = \"\"\"\n",
    "    You are the CompanySuggestionAgent. Help suggest the closest matching company name based on user input.\n",
    "\n",
    "    \"\"\"\n",
    "    result = company_suggestion_agent.invoke(\n",
    "        {\n",
    "            \"messages\": [\n",
    "                {\"role\": \"system\", \"content\": SYSTEM_MSG_DELIVERY},\n",
    "                {\"role\": \"user\", \"content\": query}\n",
    "            ]\n",
    "        },\n",
    "        config={\"configurable\": {\"recursion_limit\": 50}}\n",
    "    )\n",
    "    return result[\"messages\"][-1].content"
   ]
  },
  {
   "cell_type": "code",
   "execution_count": 20,
   "metadata": {},
   "outputs": [],
   "source": [
    "# Patch docstrings & function references onto the existing 'call_*' tools\n",
    "call_container_agent.__doc__ = call_container_agent_impl.__doc__\n",
    "call_container_agent.func = call_container_agent_impl\n",
    "\n",
    "call_suggestion_agent.__doc__ = call_suggestion_agent_impl.__doc__\n",
    "call_suggestion_agent.func = call_suggestion_agent_impl"
   ]
  },
  {
   "cell_type": "markdown",
   "metadata": {},
   "source": [
    "## Step 7: Create the Coordinating Agent\n"
   ]
  },
  {
   "cell_type": "code",
   "execution_count": 21,
   "metadata": {},
   "outputs": [],
   "source": [
    "\n",
    "COORDINATOR_SYSTEM_MSG = \"\"\"\n",
    "You are the CoordinatingAgent for a supply chain.\n",
    "Your job is to process user queries regarding container stock and defective containers.\n",
    "If a user's query contains a company name that appears to be misspelled (for example, if a sub-agent returns a suggestion such as \"Did you mean 'Transport2'?\"),\n",
    "ask the user for clarification. For instance, you might say: \"It looks like you might have meant 'Transport2'. Is that correct?\"\n",
    "Don't wait for the user's confirmation and proceede anyway.\n",
    "When the query is clear, return the final result without any disclaimers.\n",
    "\"\"\"\n",
    "\n",
    "llm_coord = ChatOpenAI(model=\"gpt-4o\", temperature=0)\n",
    "coordinating_agent = create_react_agent(\n",
    "    model=llm_coord,\n",
    "    tools=[call_container_agent, call_suggestion_agent_impl],\n",
    ")\n"
   ]
  },
  {
   "cell_type": "markdown",
   "metadata": {},
   "source": [
    "## Step 8: Set Up Chat History Accumulator"
   ]
  },
  {
   "cell_type": "code",
   "execution_count": 23,
   "metadata": {},
   "outputs": [],
   "source": [
    "chat_history = [{\"role\": \"system\", \"content\": COORDINATOR_SYSTEM_MSG}]\n",
    "\n",
    "def add_to_history(role: str, content: str):\n",
    "    \"\"\"\n",
    "    Helper function to add a new message to the chat history.\n",
    "    \n",
    "    :param role: \"user\" or \"assistant\"\n",
    "    :param content: The message content.\n",
    "    \"\"\"\n",
    "    chat_history.append({\"role\": role, \"content\": content})\n"
   ]
  },
  {
   "cell_type": "markdown",
   "metadata": {},
   "source": [
    "## Step: Testing the Chatbot"
   ]
  },
  {
   "cell_type": "code",
   "execution_count": 24,
   "metadata": {},
   "outputs": [
    {
     "name": "stdout",
     "output_type": "stream",
     "text": [
      "User: Please let me know the current stock of Rahmen Containers trnasport1\n",
      "CoordinatingAgent: The current stock of Rahmen Containers at Transport1 is 100 units.\n",
      "\n",
      "User: Please add 2 Rahmen to Transport3\n",
      "CoordinatingAgent: 2 units of 'Rahmen' have been successfully added to Transport3.\n"
     ]
    }
   ],
   "source": [
    "# Step 1: User submits the initial query.\n",
    "initial_query = \"Please let me know the current stock of Rahmen Containers trnasport1\"\n",
    "add_to_history(\"user\", initial_query)\n",
    "print(\"User:\",initial_query)\n",
    "\n",
    "\n",
    "response1 = coordinating_agent.invoke(\n",
    "    {\"messages\": chat_history},\n",
    "    config={\"configurable\": {\"recursion_limit\": 80}}\n",
    ")\n",
    "agent_reply1 = response1[\"messages\"][-1].content\n",
    "add_to_history(\"assistant\", agent_reply1)\n",
    "\n",
    "print(\"CoordinatingAgent:\", agent_reply1)\n",
    "\n",
    "\n",
    "\n",
    "# Step 3: Adding stock.\n",
    "user_question2 = \"Please add 2 Rahmen to Transport3\"\n",
    "add_to_history(\"user\", user_question2)\n",
    "print(\"\\nUser:\", user_question2)\n",
    "\n",
    "response3 = coordinating_agent.invoke(\n",
    "    {\"messages\": chat_history},\n",
    "    config={\"configurable\": {\"recursion_limit\": 80}}\n",
    ")\n",
    "agent_reply3 = response3[\"messages\"][-1].content\n",
    "add_to_history(\"assistant\", agent_reply3)\n",
    "\n",
    "print(\"CoordinatingAgent:\", agent_reply3)\n"
   ]
  },
  {
   "cell_type": "code",
   "execution_count": 25,
   "metadata": {},
   "outputs": [],
   "source": [
    "\n",
    "COORDINATOR_SYSTEM_MSG = \"\"\"\n",
    "You are the CoordinatingAgent for a supply chain.\n",
    "Your job is to process user queries regarding container stock and defective containers.\n",
    "If a user's query contains a company name that appears to be misspelled (for example, if a sub-agent returns a suggestion such as \"Did you mean 'Transport2'?\"),\n",
    "ask the user for clarification. For instance, you might say: \"It looks like you might have meant 'Transport2'. Is that correct?\"\n",
    "\n",
    "Wait for the users confirmation and proceed after.\n",
    "\n",
    "When the query is clear, return the final result without any disclaimers.\n",
    "\"\"\"\n",
    "\n",
    "llm_coord = ChatOpenAI(model=\"gpt-4o\", temperature=0)\n",
    "coordinating_agent = create_react_agent(\n",
    "    model=llm_coord,\n",
    "    tools=[call_container_agent, call_suggestion_agent_impl],\n",
    ")\n"
   ]
  },
  {
   "cell_type": "code",
   "execution_count": 26,
   "metadata": {},
   "outputs": [
    {
     "name": "stdout",
     "output_type": "stream",
     "text": [
      "User: Please let me know the current stock of Rahmen Containers trnasport1\n",
      "CoordinatingAgent: It looks like you might have meant 'Transport1'. The current stock of Rahmen Containers at Transport1 is 100 units.\n",
      "\n",
      "User: Yes\n",
      "CoordinatingAgent: The current stock of Rahmen Containers at Transport1 is 100 units.\n",
      "\n",
      "User: Please add 2 Rahmen to Transport3?\n",
      "CoordinatingAgent: 2 units of 'Rahmen' have been successfully added to Transport3.\n"
     ]
    }
   ],
   "source": [
    "# Step 1: User submits the initial query.\n",
    "initial_query = \"Please let me know the current stock of Rahmen Containers trnasport1\"\n",
    "add_to_history(\"user\", initial_query)\n",
    "print(\"User:\",initial_query)\n",
    "\n",
    "\n",
    "response1 = coordinating_agent.invoke(\n",
    "    {\"messages\": chat_history},\n",
    "    config={\"configurable\": {\"recursion_limit\": 80}}\n",
    ")\n",
    "agent_reply1 = response1[\"messages\"][-1].content\n",
    "add_to_history(\"assistant\", agent_reply1)\n",
    "\n",
    "print(\"CoordinatingAgent:\", agent_reply1)\n",
    "\n",
    "# Step 2: The agent asks for clarification and the user responds.\n",
    "user_confirmation = \"Yes\"\n",
    "add_to_history(\"user\", user_confirmation)\n",
    "print(\"\\nUser:\", user_confirmation)\n",
    "\n",
    "response2 = coordinating_agent.invoke(\n",
    "    {\"messages\": chat_history},\n",
    "    config={\"configurable\": {\"recursion_limit\": 80}}\n",
    ")\n",
    "agent_reply2 = response2[\"messages\"][-1].content\n",
    "add_to_history(\"assistant\", agent_reply2)\n",
    "\n",
    "print(\"CoordinatingAgent:\", agent_reply2)\n",
    "\n",
    "# Step 3: Adding stock.\n",
    "user_question2 = \"Please add 2 Rahmen to Transport3?\"\n",
    "add_to_history(\"user\", user_question2)\n",
    "print(\"\\nUser:\", user_question2)\n",
    "\n",
    "response3 = coordinating_agent.invoke(\n",
    "    {\"messages\": chat_history},\n",
    "    config={\"configurable\": {\"recursion_limit\": 80}}\n",
    ")\n",
    "agent_reply3 = response3[\"messages\"][-1].content\n",
    "add_to_history(\"assistant\", agent_reply3)\n",
    "\n",
    "print(\"CoordinatingAgent:\", agent_reply3)\n"
   ]
  }
 ],
 "metadata": {
  "kernelspec": {
   "display_name": "Python 3",
   "language": "python",
   "name": "python3"
  },
  "language_info": {
   "codemirror_mode": {
    "name": "ipython",
    "version": 3
   },
   "file_extension": ".py",
   "mimetype": "text/x-python",
   "name": "python",
   "nbconvert_exporter": "python",
   "pygments_lexer": "ipython3",
   "version": "3.12.1"
  }
 },
 "nbformat": 4,
 "nbformat_minor": 2
}
