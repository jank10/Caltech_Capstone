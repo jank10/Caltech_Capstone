{
 "cells": [
  {
   "cell_type": "markdown",
   "metadata": {},
   "source": [
    "# News Research Agent"
   ]
  },
  {
   "cell_type": "code",
   "execution_count": 1,
   "metadata": {},
   "outputs": [],
   "source": [
    "import os\n",
    "from crewai import Agent, Task, Crew, Process\n",
    "from crewai_tools import SerperDevTool, WebsiteSearchTool, ScrapeWebsiteTool\n",
    "from langchain_openai import ChatOpenAI\n",
    "from dotenv import load_dotenv\n",
    "import json\n",
    "\n",
    "# Libaries for sending email\n",
    "import base64\n",
    "import pickle\n",
    "from email.mime.text import MIMEText\n",
    "from email.mime.multipart import MIMEMultipart\n",
    "from googleapiclient.discovery import build\n",
    "from google_auth_oauthlib.flow import InstalledAppFlow\n",
    "from google.auth.transport.requests import Request"
   ]
  },
  {
   "cell_type": "markdown",
   "metadata": {},
   "source": [
    "## Create Agents, Tasks and Crew"
   ]
  },
  {
   "cell_type": "code",
   "execution_count": 2,
   "metadata": {},
   "outputs": [],
   "source": [
    "load_dotenv()\n",
    "serper_api_key = os.getenv(\"SERPER_API_KEY\")\n",
    "openai_api_key = os.getenv(\"OPENAI_API_KEY\")"
   ]
  },
  {
   "cell_type": "code",
   "execution_count": 3,
   "metadata": {},
   "outputs": [],
   "source": [
    "search_tool = SerperDevTool(\n",
    "    search_url = \"https://google.serper.dev/news\",\n",
    "    n_results = 10\n",
    ")\n",
    "website_tool = WebsiteSearchTool()\n",
    "scrape_tool = ScrapeWebsiteTool()"
   ]
  },
  {
   "cell_type": "code",
   "execution_count": 4,
   "metadata": {},
   "outputs": [],
   "source": [
    "topic = input(\"Enter the research topic: \")"
   ]
  },
  {
   "cell_type": "code",
   "execution_count": 5,
   "metadata": {},
   "outputs": [],
   "source": [
    "from datetime import datetime\n",
    "\n",
    "# Get the current date and time\n",
    "now = datetime.now()\n",
    "\n",
    "# Format the date and time\n",
    "formatted_date = now.strftime(\"%Y-%m-%d %H:%M:%S\")"
   ]
  },
  {
   "cell_type": "code",
   "execution_count": 6,
   "metadata": {},
   "outputs": [],
   "source": [
    "# file name\n",
    "\n",
    "file_name_txt = f\"\"\"report_{topic}_{formatted_date}.txt\"\"\"\n",
    "file_name_html = f\"\"\"report_{topic}_{formatted_date}.html\"\"\"\n"
   ]
  },
  {
   "cell_type": "code",
   "execution_count": 7,
   "metadata": {},
   "outputs": [],
   "source": [
    "trusted_sources = ['official government websites (e.g. ending on .gov)','BBC', 'CNN', 'The Guardian', 'The New York Times', 'The Washington Post', 'The Wall Street Journal', 'Neue Zürcher Zeitung', ]"
   ]
  },
  {
   "cell_type": "code",
   "execution_count": 8,
   "metadata": {},
   "outputs": [],
   "source": [
    "researcher = Agent(\n",
    "    role = \"Senior News Research Specialist\",\n",
    "    goal = \"Conduct comprehensive research and gather detailed information to support C-Level Executives in their decision making.\",\n",
    "    backstory = \"\"\"Expert researcher skilled at discovering the latest trends on a given issue. One of your main skills is finding the right search terms to find the most relevant papers on a given topic. Specializes in throrough and detailed research\"\"\",\n",
    "    verbose = False,\n",
    "    allow_delegation = False,\n",
    "    tools = [search_tool],\n",
    "    llm = ChatOpenAI(model_name=\"gpt-4o\", temperature=0.7)\n",
    "    #max_iter = 10\n",
    ")\n",
    "\n",
    "analyst = Agent(\n",
    "    role = \"Senior News Reporting Analyst\",\n",
    "    goal = \"Analyze and synthesize research findings\",\n",
    "    backstory = \"\"\"Expert analyst skilled at processing complex information and identifying key patterns and insights. Spezialises in clear and actionable analysis.\"\"\",\n",
    "    verbose = False,\n",
    "    allow_delegation = False,\n",
    "    tools = [search_tool],\n",
    "    #tools = [scrape_tool],\n",
    "    llm = ChatOpenAI(model_name=\"gpt-4o\", temperature=0.7)\n",
    "    #max_iter = 10\n",
    ")\n",
    "\n",
    "writer = Agent(\n",
    "    role = \"Content synthesis expert\",\n",
    "    goal = \"Create clear, structured reports from analysis\",\n",
    "    backstory = \"\"\"You are a well-respected content strategist with a knack for creating engaging and informative articles.\n",
    "    Your expertise lies in transforming complex concepts into clear, compelling narratives that are easily understood by a broad audience.\n",
    "    Your main focus is on informing C-Level Executives about the latest trends and developments of the given topic\"\"\",\n",
    "    verbose = True,\n",
    "    allow_delegation = False,\n",
    "    llm = ChatOpenAI(model_name=\"gpt-4o\", temperature=0.7)\n",
    "    #max_iter = 10\n",
    ")\n",
    "\n",
    "email_agent = Agent(\n",
    "    role=\"Email Formatter\",\n",
    "    goal=\"Generate well-formatted HTML emails for professional communication.\",\n",
    "    backstory=\"You are an expert email composer who specializes in crafting visually appealing, structured HTML emails that look great in Gmail and other email clients.\",\n",
    "    verbose=True,\n",
    "    allow_delegation=False,\n",
    "    llm = ChatOpenAI(model_name=\"gpt-4o\", temperature=0.7)\n",
    ")"
   ]
  },
  {
   "cell_type": "code",
   "execution_count": 9,
   "metadata": {},
   "outputs": [],
   "source": [
    "task1 = Task(\n",
    "    description = f\"\"\"Research the latest developments, news and facts about the topic of {topic} as of the date {formatted_date}:\n",
    "    \n",
    "    Follow these steps:\n",
    "    1. Find reliable sources and the latest information on the topic. Focus on trusted sources such as {trusted_sources}.\n",
    "    2. Extract key details and evidence\n",
    "    3. Verify the information across sources\n",
    "    4. Document your findings with references and exact URLs\"\"\",\n",
    "    expected_output = \"Detailed list of research findings with title, date and source url.\",\n",
    "    agent = researcher\n",
    ")\n",
    "\n",
    "task2 = Task(\n",
    "    description = f\"\"\"Analyze the latest developments, news and facts about {topic}:\n",
    "    \n",
    "    Follow these steps:\n",
    "    1. Review and categorize the information\n",
    "    2. Identify patterns and trends\n",
    "    3. Evaluate credibility and relevance\n",
    "    4. Note key insights\"\"\",\n",
    "    expected_output = \"Analysis of findings and key insights\",\n",
    "    agent = analyst,\n",
    "    context = [task1]\n",
    ")\n",
    "\n",
    "task3 = Task(\n",
    "    description = f\"\"\"Create a clear report on the latest developments, news and facts about {topic}:\n",
    "    \n",
    "    Include:\n",
    "    1. Brief executive summary with the latest developments. Focus on always mentioning from when (Day, Date) the information is.\n",
    "    2. A bulleted list of key insights.\n",
    "    3. At the end and only at the end list the URLs of the sources and the publishing date of the sources.\"\"\",\n",
    "    expected_output = \"Structured report with key insights. ALWAYS list the URLs of the sources and the publishing date of the sources at the end of the report.\",\n",
    "    agent = writer,\n",
    "    context = [task1, task2],\n",
    "    output_file= file_name_txt\n",
    ")\n",
    "\n",
    "task4 = Task(\n",
    "    description = f\"\"\"Your task is to generate a **well-formatted HTML email** based on the following user input.\n",
    "\n",
    "    - Ensure that the email includes proper **HTML structure**.\n",
    "    - Use `<h2>` for headings, `<p>` for paragraphs, and `<b>` or `<strong>` for bold text.\n",
    "    - If a user mentions links, use `<a href=\"URL\">Link Text</a>`.\n",
    "    - Ensure compatibility with Gmail by avoiding heavy CSS.\n",
    "    Output a **valid HTML email** inside <html> and <body> tags.\"\"\",\n",
    "    expected_output = \"A transformed text from normal text to HTML\",\n",
    "    agent = email_agent,\n",
    "    context = [task3],\n",
    "    output_file= file_name_html\n",
    ")"
   ]
  },
  {
   "cell_type": "code",
   "execution_count": 10,
   "metadata": {},
   "outputs": [],
   "source": [
    "crew = Crew(\n",
    "    agents = [researcher, analyst, writer, email_agent],\n",
    "    tasks = [task1, task2, task3, task4],\n",
    "    verbose = 1\n",
    ")"
   ]
  },
  {
   "cell_type": "code",
   "execution_count": null,
   "metadata": {},
   "outputs": [],
   "source": [
    "final = crew.kickoff()"
   ]
  },
  {
   "cell_type": "code",
   "execution_count": 12,
   "metadata": {},
   "outputs": [],
   "source": [
    "# print(f\"Raw Output: {final.raw}\")\n",
    "# final.raw"
   ]
  },
  {
   "cell_type": "markdown",
   "metadata": {},
   "source": [
    "## Send Email"
   ]
  },
  {
   "cell_type": "code",
   "execution_count": 13,
   "metadata": {},
   "outputs": [],
   "source": [
    "# Define the scope for Gmail API\n",
    "SCOPES = ['https://www.googleapis.com/auth/gmail.send']\n",
    "\n",
    "def authenticate_gmail():\n",
    "    \"\"\"Authenticate and return the Gmail API service using pickle.\"\"\"\n",
    "    creds = None\n",
    "    token_path = 'token.pickle'  # Using pickle for credential storage\n",
    "\n",
    "    # Load saved credentials if they exist\n",
    "    if os.path.exists(token_path):\n",
    "        with open(token_path, 'rb') as token:\n",
    "            creds = pickle.load(token)\n",
    "\n",
    "    # If no valid credentials, go through OAuth flow\n",
    "    if not creds or not creds.valid:\n",
    "        if creds and creds.expired and creds.refresh_token:\n",
    "            creds.refresh(Request())\n",
    "        else:\n",
    "            flow = InstalledAppFlow.from_client_secrets_file('credentials.json', SCOPES)\n",
    "            creds = flow.run_local_server(port=0, open_browser=False)  # ✅ Fix here\n",
    "\n",
    "        # Save credentials for future use\n",
    "        with open(token_path, 'wb') as token:\n",
    "            pickle.dump(creds, token)\n",
    "\n",
    "    return build('gmail', 'v1', credentials=creds)\n",
    "\n",
    "\n",
    "def create_message(sender, to, subject, html_body):\n",
    "    \"\"\"Create an email message.\"\"\"\n",
    "    message = MIMEMultipart()\n",
    "    message['to'] = to\n",
    "    message['from'] = sender\n",
    "    message['subject'] = subject\n",
    "    # Attach the HTML body\n",
    "    message.attach(MIMEText(html_body, \"html\"))\n",
    "    raw_message = base64.urlsafe_b64encode(message.as_bytes()).decode('utf-8')\n",
    "    return {'raw': raw_message}\n",
    "\n",
    "def send_email(service, sender, to, subject, body):\n",
    "    \"\"\"Send an email via Gmail API.\"\"\"\n",
    "    message = create_message(sender, to, subject, body)\n",
    "    try:\n",
    "        send_message = service.users().messages().send(userId=\"me\", body=message).execute()\n",
    "        print(f\"Email sent successfully! Message ID: {send_message['id']}\")\n",
    "    except Exception as e:\n",
    "        print(f\"An error occurred: {e}\")\n"
   ]
  },
  {
   "cell_type": "code",
   "execution_count": 14,
   "metadata": {},
   "outputs": [],
   "source": [
    "gmail_service = authenticate_gmail()\n"
   ]
  },
  {
   "cell_type": "code",
   "execution_count": 15,
   "metadata": {},
   "outputs": [
    {
     "name": "stdout",
     "output_type": "stream",
     "text": [
      "Email sent successfully! Message ID: 194f68f50183ace7\n"
     ]
    }
   ],
   "source": [
    "# Read the HTML content from a file\n",
    "html_file_path = file_name_html  # Update with your actual file path\n",
    "\n",
    "with open(html_file_path, \"r\", encoding=\"utf-8\") as file:\n",
    "    body = file.read()  # Load the HTML content from the file\n",
    "\n",
    "sender_email = \"jkdevpy@gmail.com\"  # Replace with your email\n",
    "recipient_email = \"j.piccolatorta@gmail.com\"  # Replace with recipient email\n",
    "subject = f\"\"\"Report on {topic} / {formatted_date}\"\"\"\n",
    "\n",
    "send_email(gmail_service, sender_email, recipient_email, subject, body)\n",
    "\n"
   ]
  }
 ],
 "metadata": {
  "language_info": {
   "name": "python"
  }
 },
 "nbformat": 4,
 "nbformat_minor": 2
}
